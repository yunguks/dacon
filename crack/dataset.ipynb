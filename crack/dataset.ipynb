{
 "cells": [
  {
   "cell_type": "code",
   "execution_count": 3,
   "metadata": {},
   "outputs": [
    {
     "ename": "NameError",
     "evalue": "name 'interact' is not defined",
     "output_type": "error",
     "traceback": [
      "\u001b[0;31m---------------------------------------------------------------------------\u001b[0m",
      "\u001b[0;31mNameError\u001b[0m                                 Traceback (most recent call last)",
      "\u001b[1;32m/home/seunmul/dacon/crack/dataset.ipynb 셀 1\u001b[0m in \u001b[0;36m<cell line: 36>\u001b[0;34m()\u001b[0m\n\u001b[1;32m     <a href='vscode-notebook-cell://ssh-remote%2Bseunmul_temp/home/seunmul/dacon/crack/dataset.ipynb#W0sdnNjb2RlLXJlbW90ZQ%3D%3D?line=32'>33</a>\u001b[0m frames \u001b[39m=\u001b[39m get_frames(\u001b[39m\"\u001b[39m\u001b[39m./data/train/TRAIN_0001.mp4\u001b[39m\u001b[39m\"\u001b[39m)\n\u001b[1;32m     <a href='vscode-notebook-cell://ssh-remote%2Bseunmul_temp/home/seunmul/dacon/crack/dataset.ipynb#W0sdnNjb2RlLXJlbW90ZQ%3D%3D?line=33'>34</a>\u001b[0m frames,res \u001b[39m=\u001b[39m aug(transforms, frames)\n\u001b[0;32m---> <a href='vscode-notebook-cell://ssh-remote%2Bseunmul_temp/home/seunmul/dacon/crack/dataset.ipynb#W0sdnNjb2RlLXJlbW90ZQ%3D%3D?line=35'>36</a>\u001b[0m \u001b[39m@interact\u001b[39m(frame\u001b[39m=\u001b[39m(\u001b[39m0\u001b[39m, \u001b[39mlen\u001b[39m(frames)\u001b[39m-\u001b[39m\u001b[39m1\u001b[39m))\n\u001b[1;32m     <a href='vscode-notebook-cell://ssh-remote%2Bseunmul_temp/home/seunmul/dacon/crack/dataset.ipynb#W0sdnNjb2RlLXJlbW90ZQ%3D%3D?line=36'>37</a>\u001b[0m \u001b[39mdef\u001b[39;00m \u001b[39mshow_frame\u001b[39m(frame\u001b[39m=\u001b[39m(\u001b[39m0\u001b[39m)):\n\u001b[1;32m     <a href='vscode-notebook-cell://ssh-remote%2Bseunmul_temp/home/seunmul/dacon/crack/dataset.ipynb#W0sdnNjb2RlLXJlbW90ZQ%3D%3D?line=37'>38</a>\u001b[0m     plt\u001b[39m.\u001b[39mimshow(frames[frame,:,:,:])\n\u001b[1;32m     <a href='vscode-notebook-cell://ssh-remote%2Bseunmul_temp/home/seunmul/dacon/crack/dataset.ipynb#W0sdnNjb2RlLXJlbW90ZQ%3D%3D?line=39'>40</a>\u001b[0m show_frame()\n",
      "\u001b[0;31mNameError\u001b[0m: name 'interact' is not defined"
     ]
    }
   ],
   "source": [
    "import albumentations as A\n",
    "from ipywidgets import interact\n",
    "from matplotlib import pyplot as plt\n",
    "import numpy as np \n",
    "import cv2\n",
    "\n",
    "\n",
    "def get_frames(path):\n",
    "    cap = cv2.VideoCapture(path)\n",
    "    frames = int(cap.get(cv2.CAP_PROP_FRAME_COUNT))\n",
    "    imgs = []        \n",
    "    for fidx in range(frames):\n",
    "        _, img = cap.read()            \n",
    "        img = cv2.cvtColor(img, cv2.COLOR_BGR2RGB)\n",
    "        imgs.append(img)\n",
    "    \n",
    "    ret = {f\"image{i}\":imgs[i] for i in range(1, len(imgs))}\n",
    "    ret['image'] = imgs[0]\n",
    "    return ret\n",
    "\n",
    "def aug(transforms, images):\n",
    "    res = transforms(**images)\n",
    "    images = np.zeros((len(images), 180, 320, 3), dtype=np.uint8)\n",
    "    images[0, :, :, :] = res[\"image\"]\n",
    "    for i in range(1, len(images)):\n",
    "        images[i, :, :, :] = res[f\"image{i}\"]\n",
    "    return images, res\n",
    "\n",
    "transforms = A.Compose([\n",
    "    A.Resize(height=180, width=320),\n",
    "    A.VerticalFlip(p=1),\n",
    "], p=1, additional_targets={f\"image{i}\":\"image\" for i in range(1, 50)})\n",
    "\n",
    "frames = get_frames(\"./data/train/TRAIN_0001.mp4\")\n",
    "frames,res = aug(transforms, frames)\n",
    "\n",
    "@interact(frame=(0, len(frames)-1))\n",
    "def show_frame(frame=(0)):\n",
    "    plt.imshow(frames[frame,:,:,:])\n",
    "    \n",
    "show_frame()"
   ]
  },
  {
   "cell_type": "code",
   "execution_count": null,
   "metadata": {},
   "outputs": [],
   "source": []
  }
 ],
 "metadata": {
  "kernelspec": {
   "display_name": "torch",
   "language": "python",
   "name": "python3"
  },
  "language_info": {
   "codemirror_mode": {
    "name": "ipython",
    "version": 3
   },
   "file_extension": ".py",
   "mimetype": "text/x-python",
   "name": "python",
   "nbconvert_exporter": "python",
   "pygments_lexer": "ipython3",
   "version": "3.9.12"
  },
  "orig_nbformat": 4,
  "vscode": {
   "interpreter": {
    "hash": "24c3f2c56578ca93d34255952c36601b421b6ecc37a0d9982e6b92a246c07692"
   }
  }
 },
 "nbformat": 4,
 "nbformat_minor": 2
}
