{
 "cells": [
  {
   "cell_type": "code",
   "execution_count": 2,
   "metadata": {},
   "outputs": [
    {
     "data": {
      "text/html": [
       "<div>\n",
       "<style scoped>\n",
       "    .dataframe tbody tr th:only-of-type {\n",
       "        vertical-align: middle;\n",
       "    }\n",
       "\n",
       "    .dataframe tbody tr th {\n",
       "        vertical-align: top;\n",
       "    }\n",
       "\n",
       "    .dataframe thead th {\n",
       "        text-align: right;\n",
       "    }\n",
       "</style>\n",
       "<table border=\"1\" class=\"dataframe\">\n",
       "  <thead>\n",
       "    <tr style=\"text-align: right;\">\n",
       "      <th></th>\n",
       "      <th>id</th>\n",
       "      <th>img_path</th>\n",
       "      <th>artist</th>\n",
       "    </tr>\n",
       "  </thead>\n",
       "  <tbody>\n",
       "    <tr>\n",
       "      <th>0</th>\n",
       "      <td>0</td>\n",
       "      <td>./train/0000.jpg</td>\n",
       "      <td>Diego Velazquez</td>\n",
       "    </tr>\n",
       "    <tr>\n",
       "      <th>1</th>\n",
       "      <td>1</td>\n",
       "      <td>./train/0001.jpg</td>\n",
       "      <td>Vincent van Gogh</td>\n",
       "    </tr>\n",
       "    <tr>\n",
       "      <th>2</th>\n",
       "      <td>2</td>\n",
       "      <td>./train/0002.jpg</td>\n",
       "      <td>Claude Monet</td>\n",
       "    </tr>\n",
       "    <tr>\n",
       "      <th>3</th>\n",
       "      <td>3</td>\n",
       "      <td>./train/0003.jpg</td>\n",
       "      <td>Edgar Degas</td>\n",
       "    </tr>\n",
       "    <tr>\n",
       "      <th>4</th>\n",
       "      <td>4</td>\n",
       "      <td>./train/0004.jpg</td>\n",
       "      <td>Hieronymus Bosch</td>\n",
       "    </tr>\n",
       "  </tbody>\n",
       "</table>\n",
       "</div>"
      ],
      "text/plain": [
       "   id          img_path            artist\n",
       "0   0  ./train/0000.jpg   Diego Velazquez\n",
       "1   1  ./train/0001.jpg  Vincent van Gogh\n",
       "2   2  ./train/0002.jpg      Claude Monet\n",
       "3   3  ./train/0003.jpg       Edgar Degas\n",
       "4   4  ./train/0004.jpg  Hieronymus Bosch"
      ]
     },
     "execution_count": 2,
     "metadata": {},
     "output_type": "execute_result"
    }
   ],
   "source": [
    "import pandas as pd\n",
    "\n",
    "df = pd.read_csv('./Dataset/train.csv')\n",
    "df.head()"
   ]
  },
  {
   "cell_type": "code",
   "execution_count": 8,
   "metadata": {},
   "outputs": [
    {
     "name": "stdout",
     "output_type": "stream",
     "text": [
      "{'Diego Velazquez': 80, 'Vincent van Gogh': 628, 'Claude Monet': 58, 'Edgar Degas': 488, 'Hieronymus Bosch': 114, 'Pierre-Auguste Renoir': 232, 'Rene Magritte': 136, 'Michelangelo': 33, 'Peter Paul Rubens': 96, 'Caravaggio': 31, 'Alfred Sisley': 164, 'Edouard Manet': 61, 'Rembrandt': 180, 'Francisco Goya': 203, 'Pablo Picasso': 302, 'Titian': 172, 'Mikhail Vrubel': 117, 'Leonardo da Vinci': 100, 'Kazimir Malevich': 90, 'Andy Warhol': 131, 'Vasiliy Kandinskiy': 59, 'Gustav Klimt': 68, 'Amedeo Modigliani': 131, 'Henri Rousseau': 51, 'Salvador Dali': 98, 'Pieter Bruegel': 84, 'Albrecht Du rer': 219, 'Paul Gauguin': 219, 'Sandro Botticelli': 119, 'Piet Mondrian': 58, 'Eugene Delacroix': 25, 'Paul Klee': 141, 'William Turner': 43, 'Marc Chagall': 172, 'Jan van Eyck': 63, 'Henri Matisse': 120, 'El Greco': 64, 'Gustave Courbet': 41, 'Andrei Rublev': 73, 'Jackson Pollock': 20, 'Edvard Munch': 43, 'Camille Pissarro': 63, 'Raphael': 72, 'Henri de Toulouse-Lautrec': 60, 'Joan Miro': 75, 'Giotto di Bondone': 71, 'Diego Rivera': 49, 'Frida Kahlo': 83, 'Georges Seurat': 29, 'Paul Cezanne': 32}\n",
      "{'Diego Velazquez': 80, 'Vincent van Gogh': 628, 'Claude Monet': 58, 'Edgar Degas': 488, 'Hieronymus Bosch': 114, 'Pierre-Auguste Renoir': 232, 'Rene Magritte': 136, 'Michelangelo': 33, 'Peter Paul Rubens': 96, 'Caravaggio': 31, 'Alfred Sisley': 164, 'Edouard Manet': 61, 'Rembrandt': 180, 'Francisco Goya': 203, 'Pablo Picasso': 302, 'Titian': 172, 'Mikhail Vrubel': 117, 'Leonardo da Vinci': 100, 'Kazimir Malevich': 90, 'Andy Warhol': 131, 'Vasiliy Kandinskiy': 59, 'Gustav Klimt': 68, 'Amedeo Modigliani': 131, 'Henri Rousseau': 51, 'Salvador Dali': 98, 'Pieter Bruegel': 84, 'Albrecht Du rer': 219, 'Paul Gauguin': 219, 'Sandro Botticelli': 119, 'Piet Mondrian': 58, 'Eugene Delacroix': 25, 'Paul Klee': 141, 'William Turner': 43, 'Marc Chagall': 172, 'Jan van Eyck': 63, 'Henri Matisse': 120, 'El Greco': 64, 'Gustave Courbet': 41, 'Andrei Rublev': 73, 'Jackson Pollock': 20, 'Edvard Munch': 43, 'Camille Pissarro': 63, 'Raphael': 72, 'Henri de Toulouse-Lautrec': 60, 'Joan Miro': 75, 'Giotto di Bondone': 71, 'Diego Rivera': 49, 'Frida Kahlo': 83, 'Georges Seurat': 29, 'Paul Cezanne': 32, ('Vincent van Gogh', 628): 49}\n"
     ]
    }
   ],
   "source": [
    "from collections import namedtuple\n",
    "\n",
    "CityscapesClass = namedtuple('Art_class', ['name', 'id', 'train_label', 'category', 'category_id','count'])\n",
    "\n",
    "counts = {}\n",
    "for i in df['artist']:\n",
    "    if i not in counts:\n",
    "        counts[i] =0\n",
    "    else:\n",
    "        counts[i] +=1\n",
    "print(counts)\n",
    "labels = sorted(counts.items(), key=lambda x : x[1], reverse=True)\n",
    "for i in range(len(labels)):\n",
    "    counts[labels[0]]=i\n",
    "print(counts)\n"
   ]
  },
  {
   "cell_type": "code",
   "execution_count": null,
   "metadata": {},
   "outputs": [],
   "source": []
  }
 ],
 "metadata": {
  "kernelspec": {
   "display_name": "Python 3.9.12 ('torch': conda)",
   "language": "python",
   "name": "python3"
  },
  "language_info": {
   "codemirror_mode": {
    "name": "ipython",
    "version": 3
   },
   "file_extension": ".py",
   "mimetype": "text/x-python",
   "name": "python",
   "nbconvert_exporter": "python",
   "pygments_lexer": "ipython3",
   "version": "3.9.12"
  },
  "orig_nbformat": 4,
  "vscode": {
   "interpreter": {
    "hash": "24c3f2c56578ca93d34255952c36601b421b6ecc37a0d9982e6b92a246c07692"
   }
  }
 },
 "nbformat": 4,
 "nbformat_minor": 2
}
